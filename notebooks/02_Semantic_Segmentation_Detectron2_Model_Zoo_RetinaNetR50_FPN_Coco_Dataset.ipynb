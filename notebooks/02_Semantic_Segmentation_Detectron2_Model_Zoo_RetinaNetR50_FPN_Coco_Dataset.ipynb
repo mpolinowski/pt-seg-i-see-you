{
 "cells": [
  {
   "cell_type": "markdown",
   "id": "458cba80-06b5-42b7-8f3f-e1d1f2a47f0f",
   "metadata": {},
   "source": [
    "# Object Detection\n",
    "\n",
    "[Detectron2](https://detectron2.readthedocs.io/en/latest/) is a platform for object detection, segmentation and other visual recognition tasks.\n",
    "\n",
    "* Includes new capabilities such as panoptic segmentation, Densepose, Cascade R-CNN, rotated bounding boxes, PointRend, DeepLab, ViTDet, MViTv2 etc.\n",
    "* Used as a library to support building research projects on top of it.\n",
    "* Models can be exported to TorchScript format or Caffe2 format for deployment."
   ]
  },
  {
   "cell_type": "code",
   "execution_count": null,
   "id": "09dbf4c7-5c39-4ce4-9779-cab73760dec5",
   "metadata": {},
   "outputs": [],
   "source": [
    "!pip install opencv-python matplotlib"
   ]
  },
  {
   "cell_type": "code",
   "execution_count": null,
   "id": "d4a082a3-a7ba-4540-bcf8-26589a492652",
   "metadata": {},
   "outputs": [],
   "source": [
    "!python -m pip install 'git+https://github.com/facebookresearch/detectron2.git'"
   ]
  },
  {
   "cell_type": "markdown",
   "id": "96a2ecf7-552e-4364-b410-662a4f1e7eb0",
   "metadata": {},
   "source": [
    "## Detectron2 :: RetinaNetR50 FPN"
   ]
  },
  {
   "cell_type": "code",
   "execution_count": 9,
   "id": "2f2ae5ba-c4bc-49b2-a4e9-4652680d9abf",
   "metadata": {},
   "outputs": [],
   "source": [
    "import detectron2\n",
    "\n",
    "#https://github.com/facebookresearch/detectron2/blob/main/MODEL_ZOO.md\n",
    "from detectron2 import model_zoo\n",
    "from detectron2.engine import DefaultPredictor\n",
    "from detectron2.config import get_cfg\n",
    "from detectron2.utils.visualizer import Visualizer\n",
    "from detectron2.data import MetadataCatalog\n",
    "\n",
    "import matplotlib.pyplot as plt\n",
    "import numpy as np\n",
    "import torch, os, json, cv2, random"
   ]
  },
  {
   "cell_type": "code",
   "execution_count": 3,
   "id": "64eff258-928c-42c5-ac87-64e9e23a6798",
   "metadata": {},
   "outputs": [
    {
     "data": {
      "text/plain": [
       "<Logger detectron2 (DEBUG)>"
      ]
     },
     "execution_count": 3,
     "metadata": {},
     "output_type": "execute_result"
    }
   ],
   "source": [
    "# Setup detectron2 logger\n",
    "from detectron2.utils.logger import setup_logger\n",
    "setup_logger()"
   ]
  },
  {
   "cell_type": "markdown",
   "id": "660e145e-0854-46a3-9eb2-5b50f5c2566d",
   "metadata": {},
   "source": [
    "### COCO dataset"
   ]
  },
  {
   "cell_type": "code",
   "execution_count": 12,
   "id": "13daab00-407f-475f-924a-5334d8220164",
   "metadata": {},
   "outputs": [],
   "source": [
    "# https://cocodataset.org/#home\n",
    "metadata = MetadataCatalog.get(\"coco_2017_val\")"
   ]
  },
  {
   "cell_type": "code",
   "execution_count": 13,
   "id": "5a12122b-75af-4723-aabd-25abb16f43fb",
   "metadata": {},
   "outputs": [],
   "source": [
    "# Retrieve class names from metadata\n",
    "class_names = metadata.get(\"thing_classes\")"
   ]
  },
  {
   "cell_type": "code",
   "execution_count": 14,
   "id": "96975916-d514-4a4c-a5aa-d1bd0f7d2a40",
   "metadata": {},
   "outputs": [
    {
     "name": "stdout",
     "output_type": "stream",
     "text": [
      "Classes: 80\n",
      "Class Names: ['person', 'bicycle', 'car', 'motorcycle', 'airplane', 'bus', 'train', 'truck', 'boat', 'traffic light', 'fire hydrant', 'stop sign', 'parking meter', 'bench', 'bird', 'cat', 'dog', 'horse', 'sheep', 'cow', 'elephant', 'bear', 'zebra', 'giraffe', 'backpack', 'umbrella', 'handbag', 'tie', 'suitcase', 'frisbee', 'skis', 'snowboard', 'sports ball', 'kite', 'baseball bat', 'baseball glove', 'skateboard', 'surfboard', 'tennis racket', 'bottle', 'wine glass', 'cup', 'fork', 'knife', 'spoon', 'bowl', 'banana', 'apple', 'sandwich', 'orange', 'broccoli', 'carrot', 'hot dog', 'pizza', 'donut', 'cake', 'chair', 'couch', 'potted plant', 'bed', 'dining table', 'toilet', 'tv', 'laptop', 'mouse', 'remote', 'keyboard', 'cell phone', 'microwave', 'oven', 'toaster', 'sink', 'refrigerator', 'book', 'clock', 'vase', 'scissors', 'teddy bear', 'hair drier', 'toothbrush']\n"
     ]
    }
   ],
   "source": [
    "# Print the predicted class names\n",
    "print(\"Classes:\", len(class_names))\n",
    "print(\"Class Names:\", class_names)"
   ]
  },
  {
   "cell_type": "markdown",
   "id": "78163d68-cb86-465c-ab69-6763bef09190",
   "metadata": {},
   "source": [
    "* Classes: 80\n",
    "* Class Names: ['person', 'bicycle', 'car', 'motorcycle', 'airplane', 'bus', 'train', 'truck', 'boat', 'traffic light', 'fire hydrant', 'stop sign', 'parking meter', 'bench', 'bird', 'cat', 'dog', 'horse', 'sheep', 'cow', 'elephant', 'bear', 'zebra', 'giraffe', 'backpack', 'umbrella', 'handbag', 'tie', 'suitcase', 'frisbee', 'skis', 'snowboard', 'sports ball', 'kite', 'baseball bat', 'baseball glove', 'skateboard', 'surfboard', 'tennis racket', 'bottle', 'wine glass', 'cup', 'fork', 'knife', 'spoon', 'bowl', 'banana', 'apple', 'sandwich', 'orange', 'broccoli', 'carrot', 'hot dog', 'pizza', 'donut', 'cake', 'chair', 'couch', 'potted plant', 'bed', 'dining table', 'toilet', 'tv', 'laptop', 'mouse', 'remote', 'keyboard', 'cell phone', 'microwave', 'oven', 'toaster', 'sink', 'refrigerator', 'book', 'clock', 'vase', 'scissors', 'teddy bear', 'hair drier', 'toothbrush']"
   ]
  },
  {
   "cell_type": "markdown",
   "id": "612b9fe7-7641-4fb2-801f-7c718ab35c1e",
   "metadata": {},
   "source": [
    "### Create Config"
   ]
  },
  {
   "cell_type": "code",
   "execution_count": 95,
   "id": "791f8275-1398-41bc-bff3-4f9b0ba53eca",
   "metadata": {},
   "outputs": [
    {
     "name": "stderr",
     "output_type": "stream",
     "text": [
      "Loading config /opt/conda/lib/python3.10/site-packages/detectron2/model_zoo/configs/COCO-Detection/../Base-RetinaNet.yaml with yaml.unsafe_load. Your machine may be at risk if the file contains malicious content.\n"
     ]
    }
   ],
   "source": [
    "#https://github.com/facebookresearch/detectron2/tree/main/configs/COCO-Detection\n",
    "cfg_ret50fpn = get_cfg()\n",
    "cfg_ret50fpn.merge_from_file(model_zoo.get_config_file(\"COCO-Detection/retinanet_R_50_FPN_1x.yaml\"))\n",
    "cfg_ret50fpn.MODEL.ROI_HEADS.SCORE_THRESH_TEST = 0.05  # set threshold for this model\n",
    "cfg_ret50fpn.MODEL.WEIGHTS = model_zoo.get_checkpoint_url(\"COCO-Detection/retinanet_R_50_FPN_1x.yaml\")"
   ]
  },
  {
   "cell_type": "markdown",
   "id": "7520db92-ee3f-4cd1-a4bf-7284e90ac1e7",
   "metadata": {},
   "source": [
    "### Create predictor"
   ]
  },
  {
   "cell_type": "code",
   "execution_count": 96,
   "id": "5da6882f-efe6-40d5-af4b-b5909a0208bd",
   "metadata": {},
   "outputs": [
    {
     "name": "stdout",
     "output_type": "stream",
     "text": [
      "\u001b[32m[08/25 13:21:43 d2.checkpoint.detection_checkpoint]: \u001b[0m[DetectionCheckpointer] Loading from https://dl.fbaipublicfiles.com/detectron2/COCO-Detection/retinanet_R_50_FPN_1x/190397773/model_final_bfca0b.pkl ...\n"
     ]
    },
    {
     "name": "stderr",
     "output_type": "stream",
     "text": [
      "The checkpoint state_dict contains keys that are not used by the model:\n",
      "  \u001b[35mpixel_mean\u001b[0m\n",
      "  \u001b[35mpixel_std\u001b[0m\n"
     ]
    }
   ],
   "source": [
    "predictor_ret50fpn = DefaultPredictor(cfg_ret50fpn)"
   ]
  },
  {
   "cell_type": "markdown",
   "id": "0e659b60-655c-439a-b0ea-e763bf9dcef8",
   "metadata": {},
   "source": [
    "### Make Prediction"
   ]
  },
  {
   "cell_type": "code",
   "execution_count": 97,
   "id": "e52e4596-d534-4c51-9e9c-de8b12b2a61a",
   "metadata": {},
   "outputs": [],
   "source": [
    "image1 = plt.imread('../datasets/snapshots/Harbin.jpg')\n",
    "image2 = plt.imread('../datasets/snapshots/Hongkong.jpg')\n",
    "image3 = plt.imread('../datasets/snapshots/Kathmandu.jpg')\n",
    "image4 = plt.imread('../datasets/snapshots/Tea.jpg')"
   ]
  },
  {
   "cell_type": "code",
   "execution_count": 98,
   "id": "5f23a11c-4bc9-4433-b631-d24e78bd986d",
   "metadata": {},
   "outputs": [],
   "source": [
    "pred1 = predictor_ret50fpn(image1)\n",
    "pred2 = predictor_ret50fpn(image2)\n",
    "pred3 = predictor_ret50fpn(image3)\n",
    "pred4 = predictor_ret50fpn(image4)"
   ]
  },
  {
   "cell_type": "code",
   "execution_count": 129,
   "id": "2a049a91-7aba-41bb-a40b-636e7bd517a9",
   "metadata": {},
   "outputs": [
    {
     "name": "stdout",
     "output_type": "stream",
     "text": [
      "{'instances': Instances(num_instances=100, image_height=1262, image_width=1920, fields=[pred_boxes: Boxes(tensor([[1.1689e+03, 5.7320e+02, 1.4864e+03, 1.2534e+03],\n",
      "        [1.5843e+03, 5.4501e+02, 1.8076e+03, 9.7378e+02],\n",
      "        [4.9123e+02, 5.6845e+02, 6.4869e+02, 1.0137e+03],\n",
      "        [1.0124e+03, 5.1395e+02, 1.1096e+03, 5.8563e+02],\n",
      "        [8.0666e+01, 5.0960e+02, 1.9920e+02, 7.8927e+02],\n",
      "        [6.2540e+02, 5.2091e+02, 6.9306e+02, 7.1227e+02],\n",
      "        [1.2250e+03, 4.9066e+02, 1.4520e+03, 6.1863e+02],\n",
      "        [6.7986e+02, 5.3053e+02, 8.7354e+02, 6.3220e+02],\n",
      "        [8.8426e+02, 5.2187e+02, 1.0007e+03, 6.0515e+02],\n",
      "        [1.0952e+03, 5.0415e+02, 1.2185e+03, 5.8415e+02],\n",
      "        [2.1672e+02, 5.1427e+02, 2.8334e+02, 6.5330e+02],\n",
      "        [1.2033e+03, 5.1054e+02, 1.2439e+03, 6.1989e+02],\n",
      "        [3.9366e+02, 5.1759e+02, 4.7106e+02, 7.2698e+02],\n",
      "        [8.9200e+02, 4.2848e+02, 9.8985e+02, 5.2964e+02],\n",
      "        [4.1123e+01, 5.1921e+02, 8.4309e+01, 6.3925e+02],\n",
      "        [1.4999e+03, 2.2570e+02, 1.5390e+03, 3.1516e+02],\n",
      "        [1.1554e+03, 9.1650e+02, 1.2612e+03, 1.2059e+03],\n",
      "        [9.4115e+01, 4.9790e+02, 1.3028e+02, 5.7105e+02],\n",
      "        [3.1426e+02, 5.2423e+02, 3.7611e+02, 7.1209e+02],\n",
      "        [4.7161e+02, 5.0830e+02, 5.3777e+02, 6.9298e+02],\n",
      "        [5.5129e+01, 6.3352e+02, 1.1507e+02, 7.5045e+02],\n",
      "        [1.7914e+03, 5.4686e+02, 1.8966e+03, 9.9017e+02],\n",
      "        [2.6405e+02, 5.1521e+02, 2.9882e+02, 6.3933e+02],\n",
      "        [3.5628e+02, 5.1799e+02, 4.0737e+02, 7.0410e+02],\n",
      "        [7.0619e+02, 4.9989e+02, 8.1819e+02, 5.3761e+02],\n",
      "        [2.9990e-01, 5.1866e+02, 3.2281e+01, 6.5367e+02],\n",
      "        [5.0417e+02, 6.3120e+02, 6.2258e+02, 8.3812e+02],\n",
      "        [1.5591e+03, 5.6845e+02, 1.6073e+03, 6.5311e+02],\n",
      "        [1.2087e+03, 4.9628e+02, 1.2729e+03, 5.7452e+02],\n",
      "        [1.7467e+03, 7.8516e+02, 1.8324e+03, 8.7076e+02],\n",
      "        [5.1926e+02, 7.2474e+02, 6.1567e+02, 8.3454e+02],\n",
      "        [3.0913e+02, 4.9985e+02, 3.5594e+02, 5.4311e+02],\n",
      "        [8.9200e+02, 4.2848e+02, 9.8985e+02, 5.2964e+02],\n",
      "        [2.0785e+02, 5.0940e+02, 2.5063e+02, 6.4837e+02],\n",
      "        [1.1398e+03, 5.0560e+02, 1.2000e+03, 6.0791e+02],\n",
      "        [4.5722e+02, 5.2037e+02, 5.0757e+02, 6.8193e+02],\n",
      "        [5.8338e+02, 4.9092e+02, 6.0587e+02, 5.4907e+02],\n",
      "        [5.6748e+02, 4.9329e+02, 5.9189e+02, 5.5100e+02],\n",
      "        [8.6233e+01, 4.9944e+02, 1.2761e+02, 6.2085e+02],\n",
      "        [5.3024e+02, 5.3187e+02, 6.0172e+02, 6.3550e+02],\n",
      "        [6.7741e+02, 4.9572e+02, 7.1088e+02, 5.4840e+02],\n",
      "        [8.3814e+02, 5.0514e+02, 8.9494e+02, 5.4713e+02],\n",
      "        [1.7338e+03, 5.3383e+02, 1.8212e+03, 6.8943e+02],\n",
      "        [1.2123e+03, 4.9320e+02, 1.2639e+03, 5.4240e+02],\n",
      "        [5.0900e+02, 5.2496e+02, 5.4972e+02, 6.6744e+02],\n",
      "        [5.1884e+02, 5.0580e+02, 5.5330e+02, 5.5964e+02],\n",
      "        [1.2250e+03, 4.9066e+02, 1.4520e+03, 6.1863e+02],\n",
      "        [1.4989e+03, 3.8710e+02, 1.5333e+03, 4.4063e+02],\n",
      "        [2.0155e+02, 5.1587e+02, 2.3015e+02, 5.9932e+02],\n",
      "        [7.0448e+02, 5.0061e+02, 8.1894e+02, 5.4390e+02],\n",
      "        [6.3706e+02, 4.9734e+02, 6.6907e+02, 5.3862e+02],\n",
      "        [6.7602e+02, 4.9384e+02, 7.1005e+02, 5.3978e+02],\n",
      "        [1.6336e+03, 6.1018e+02, 1.7497e+03, 7.5453e+02],\n",
      "        [8.5246e+02, 5.1746e+02, 9.0027e+02, 5.6280e+02],\n",
      "        [5.9319e+02, 4.9299e+02, 6.1566e+02, 5.4675e+02],\n",
      "        [1.1727e+03, 5.0017e+02, 1.2503e+03, 6.1177e+02],\n",
      "        [3.7785e+02, 4.9619e+02, 4.2822e+02, 5.3160e+02],\n",
      "        [2.2430e+02, 5.2644e+02, 2.5646e+02, 5.9315e+02],\n",
      "        [2.3822e+02, 5.0936e+02, 3.0154e+02, 6.4645e+02],\n",
      "        [8.9033e+02, 4.6510e+02, 9.9202e+02, 5.7923e+02],\n",
      "        [3.1518e+02, 5.3273e+02, 3.6443e+02, 6.4429e+02],\n",
      "        [6.0967e+02, 4.9678e+02, 6.2694e+02, 5.4439e+02],\n",
      "        [1.1529e+03, 5.1871e+02, 1.1784e+03, 6.1308e+02],\n",
      "        [3.7184e+02, 5.2761e+02, 4.3217e+02, 7.1504e+02],\n",
      "        [2.2790e+02, 5.2042e+02, 2.7241e+02, 6.2409e+02],\n",
      "        [5.1999e+02, 6.2692e+02, 6.0209e+02, 7.1907e+02],\n",
      "        [5.2897e+02, 7.5747e+02, 5.9566e+02, 8.3146e+02],\n",
      "        [1.2130e+03, 4.9263e+02, 1.3427e+03, 6.1901e+02],\n",
      "        [2.9831e+02, 4.9426e+02, 3.5731e+02, 5.1734e+02],\n",
      "        [1.0769e+03, 5.0332e+02, 1.1389e+03, 5.4175e+02],\n",
      "        [1.1319e+03, 5.0223e+02, 1.2003e+03, 6.0597e+02],\n",
      "        [1.7359e+03, 5.4029e+02, 1.8256e+03, 8.2572e+02],\n",
      "        [7.7439e+01, 5.2041e+02, 1.0346e+02, 6.1272e+02],\n",
      "        [5.1873e+02, 5.0340e+02, 5.4766e+02, 5.3706e+02],\n",
      "        [8.9033e+02, 4.6510e+02, 9.9202e+02, 5.7923e+02],\n",
      "        [1.0699e+03, 4.8666e+02, 1.0944e+03, 5.0835e+02],\n",
      "        [5.7758e+01, 5.3421e+02, 1.6575e+02, 7.7933e+02],\n",
      "        [1.0615e+03, 5.1125e+02, 1.1816e+03, 5.8889e+02],\n",
      "        [1.6169e+03, 5.5618e+02, 1.8091e+03, 7.9220e+02],\n",
      "        [4.5614e+02, 2.9816e+02, 4.7956e+02, 3.6228e+02],\n",
      "        [1.9365e+02, 5.0991e+02, 2.3307e+02, 6.3847e+02],\n",
      "        [1.1946e+03, 5.1076e+02, 1.2565e+03, 5.8920e+02],\n",
      "        [2.7461e+01, 5.1211e+02, 6.8106e+01, 6.4155e+02],\n",
      "        [4.3004e+02, 5.0111e+02, 4.8335e+02, 5.3468e+02],\n",
      "        [1.2382e+03, 5.5131e+02, 1.3390e+03, 6.8662e+02],\n",
      "        [1.0607e+03, 4.8956e+02, 1.0842e+03, 5.1062e+02],\n",
      "        [6.3291e+02, 5.4081e+02, 6.8378e+02, 6.3748e+02],\n",
      "        [1.2759e+03, 5.4537e+02, 1.3395e+03, 6.1819e+02],\n",
      "        [2.2744e+02, 5.0855e+02, 2.6755e+02, 5.3380e+02],\n",
      "        [1.0919e+03, 5.0914e+02, 1.1508e+03, 5.7810e+02],\n",
      "        [1.0026e+03, 4.9290e+02, 1.0421e+03, 5.3529e+02],\n",
      "        [5.1298e+02, 5.1089e+02, 5.5222e+02, 6.1298e+02],\n",
      "        [1.1629e+03, 6.8700e+02, 1.4130e+03, 1.2166e+03],\n",
      "        [3.8541e+02, 6.0292e+02, 4.1834e+02, 6.6837e+02],\n",
      "        [5.2268e+02, 5.1563e+02, 5.5608e+02, 5.8238e+02],\n",
      "        [1.0646e+03, 4.9360e+02, 1.1022e+03, 5.1711e+02],\n",
      "        [6.1309e+02, 4.9708e+02, 6.3909e+02, 5.4259e+02],\n",
      "        [6.7389e+01, 5.5179e+02, 1.2767e+02, 7.3416e+02],\n",
      "        [8.9033e+02, 4.6510e+02, 9.9202e+02, 5.7923e+02],\n",
      "        [1.0032e+03, 4.7672e+02, 1.0424e+03, 5.1465e+02]], device='cuda:0')), scores: tensor([0.9317, 0.8978, 0.8492, 0.8160, 0.7878, 0.7441, 0.7407, 0.7352, 0.7273,\n",
      "        0.6997, 0.6827, 0.6682, 0.6548, 0.6104, 0.5941, 0.5904, 0.5899, 0.5338,\n",
      "        0.5151, 0.5091, 0.5030, 0.4778, 0.4709, 0.4343, 0.4202, 0.4109, 0.4043,\n",
      "        0.3880, 0.3867, 0.3771, 0.3767, 0.3698, 0.3681, 0.3652, 0.3646, 0.3544,\n",
      "        0.3503, 0.3434, 0.3381, 0.3328, 0.3312, 0.3245, 0.3209, 0.3090, 0.3076,\n",
      "        0.3070, 0.3014, 0.2999, 0.2992, 0.2967, 0.2933, 0.2836, 0.2807, 0.2802,\n",
      "        0.2793, 0.2737, 0.2717, 0.2709, 0.2701, 0.2675, 0.2666, 0.2645, 0.2633,\n",
      "        0.2600, 0.2593, 0.2588, 0.2557, 0.2539, 0.2527, 0.2502, 0.2501, 0.2473,\n",
      "        0.2472, 0.2468, 0.2458, 0.2452, 0.2418, 0.2417, 0.2414, 0.2403, 0.2395,\n",
      "        0.2392, 0.2367, 0.2358, 0.2347, 0.2315, 0.2304, 0.2303, 0.2300, 0.2276,\n",
      "        0.2270, 0.2249, 0.2239, 0.2229, 0.2227, 0.2225, 0.2209, 0.2198, 0.2195,\n",
      "        0.2165], device='cuda:0'), pred_classes: tensor([ 0,  0,  0,  2,  0,  0,  2,  2,  2,  2,  0,  0,  0,  5,  0,  9, 26,  0,\n",
      "         0,  0, 26,  0,  0,  0,  2,  0, 26,  3,  2, 26, 26, 25,  7,  0,  0,  0,\n",
      "         0,  0,  0,  0,  0,  2,  0,  2,  0,  0,  7,  9,  0,  7,  2,  2, 24,  2,\n",
      "         0,  2, 25,  0,  0,  5,  0,  0,  0,  0,  0, 24, 26,  2, 25,  2,  2,  0,\n",
      "         0,  0,  7,  2, 26,  2, 24,  9,  0,  2,  0,  2,  0,  2, 26,  0, 25,  2,\n",
      "         2,  0, 26, 26,  0,  2,  2, 26,  2,  2], device='cuda:0')])}\n"
     ]
    }
   ],
   "source": [
    "print(pred1)"
   ]
  },
  {
   "cell_type": "markdown",
   "id": "cec626e6-065c-42f0-9bac-37ba534b41fe",
   "metadata": {},
   "source": [
    "### Visualize Results"
   ]
  },
  {
   "cell_type": "code",
   "execution_count": 99,
   "id": "fa07c8fa-a5dc-4f11-ae5c-3024d45fe1ee",
   "metadata": {},
   "outputs": [],
   "source": [
    "visualized_pred1 = Visualizer(image1[:, :, ::-1], MetadataCatalog.get(cfg.DATASETS.TRAIN[0]), scale=1.2)\n",
    "visualized_pred1 = visualized_pred1.draw_instance_predictions(pred1[\"instances\"].to(\"cpu\"))\n",
    "\n",
    "visualized_pred2 = Visualizer(image2[:, :, ::-1], MetadataCatalog.get(cfg.DATASETS.TRAIN[0]), scale=1.2)\n",
    "visualized_pred2 = visualized_pred2.draw_instance_predictions(pred2[\"instances\"].to(\"cpu\"))\n",
    "\n",
    "visualized_pred3 = Visualizer(image3[:, :, ::-1], MetadataCatalog.get(cfg.DATASETS.TRAIN[0]), scale=1.2)\n",
    "visualized_pred3 = visualized_pred3.draw_instance_predictions(pred3[\"instances\"].to(\"cpu\"))\n",
    "\n",
    "visualized_pred4 = Visualizer(image4[:, :, ::-1], MetadataCatalog.get(cfg.DATASETS.TRAIN[0]), scale=1.2)\n",
    "visualized_pred4 = visualized_pred4.draw_instance_predictions(pred4[\"instances\"].to(\"cpu\"))"
   ]
  },
  {
   "cell_type": "code",
   "execution_count": null,
   "id": "cad2d2f4-929d-41e3-a3c3-63f5d21cb42f",
   "metadata": {},
   "outputs": [],
   "source": [
    "plt.figure(figsize=(24, 14))\n",
    "\n",
    "ax = plt.subplot(2, 2, 1)\n",
    "plt.title('Harbin')\n",
    "plt.imshow(visualized_pred1.get_image()[:, :, ::-1])\n",
    "plt.axis(\"off\")\n",
    "ax = plt.subplot(2, 2, 2)\n",
    "plt.title('Hongkong')\n",
    "plt.imshow(visualized_pred2.get_image()[:, :, ::-1])\n",
    "plt.axis(\"off\")\n",
    "ax = plt.subplot(2, 2, 3)\n",
    "plt.title('Kathmandu')\n",
    "plt.imshow(visualized_pred3.get_image()[:, :, ::-1])\n",
    "plt.axis(\"off\")\n",
    "ax = plt.subplot(2, 2, 4)\n",
    "plt.title('Shenzhen')\n",
    "plt.imshow(visualized_pred4.get_image()[:, :, ::-1])\n",
    "plt.axis(\"off\")\n",
    "\n",
    "plt.savefig(\"./assets/Object_Detection_Detectron2_01.webp\", bbox_inches='tight')"
   ]
  },
  {
   "cell_type": "markdown",
   "id": "181f1a89-46cf-4e16-8084-e6f337610dee",
   "metadata": {},
   "source": [
    "![Detectron2 :: RetinaNetR50 FPN](./assets/Object_Detection_Detectron2_01.webp)"
   ]
  },
  {
   "cell_type": "code",
   "execution_count": 101,
   "id": "953e80ec-cd38-4f22-9947-73a3e2aeed55",
   "metadata": {},
   "outputs": [],
   "source": [
    "# Get the predicted class labels for each instance in the image1\n",
    "pred4_classes = pred4[\"instances\"].pred_classes.tolist()\n",
    "# Map the predicted class labels to class names\n",
    "pred4_class_names = [class_names[class_id] for class_id in pred4_classes]"
   ]
  },
  {
   "cell_type": "code",
   "execution_count": 102,
   "id": "44468b18-f2f4-4104-bdf3-2a475e7fbf2d",
   "metadata": {},
   "outputs": [
    {
     "name": "stdout",
     "output_type": "stream",
     "text": [
      "Predicted Class Names: ['cup', 'teddy bear', 'dining table', 'chair', 'umbrella', 'backpack', 'backpack', 'chair', 'chair', 'backpack', 'handbag', 'bowl', 'handbag', 'backpack', 'couch', 'fire hydrant', 'handbag', 'handbag', 'motorcycle', 'chair', 'spoon', 'chair', 'chair', 'chair', 'couch', 'dining table', 'chair', 'couch', 'chair', 'bowl', 'cup', 'spoon', 'fire hydrant', 'suitcase', 'chair', 'chair', 'couch', 'dining table', 'couch', 'teddy bear', 'backpack', 'spoon', 'backpack', 'chair', 'chair', 'cake', 'spoon', 'chair', 'umbrella', 'spoon', 'suitcase', 'dining table', 'bench', 'handbag', 'hot dog', 'person', 'chair', 'chair', 'bottle', 'motorcycle', 'dining table', 'surfboard', 'chair', 'dog', 'cup', 'bed', 'fire hydrant', 'bench', 'spoon', 'chair', 'dining table', 'person', 'cup', 'motorcycle', 'dining table', 'handbag', 'dining table', 'backpack', 'person', 'book', 'dog', 'spoon', 'traffic light', 'spoon', 'car', 'cup', 'chair', 'chair', 'umbrella', 'potted plant', 'umbrella', 'chair', 'backpack', 'couch', 'bench', 'teddy bear', 'chair', 'frisbee', 'book', 'backpack']\n"
     ]
    }
   ],
   "source": [
    "print(\"Predicted Class Names:\", pred4_class_names)"
   ]
  },
  {
   "cell_type": "code",
   "execution_count": 103,
   "id": "14351e8e-25a0-4cfe-a11c-e231a29bfdfb",
   "metadata": {
    "scrolled": true
   },
   "outputs": [
    {
     "name": "stdout",
     "output_type": "stream",
     "text": [
      "Boxes(tensor([[7.5032e+02, 8.3579e+02, 1.0165e+03, 1.0919e+03],\n",
      "        [4.5623e+02, 3.1689e+02, 8.1636e+02, 7.4694e+02],\n",
      "        [0.0000e+00, 6.1417e+02, 1.3399e+03, 1.1833e+03],\n",
      "        [7.2032e+02, 1.0723e+02, 8.9391e+02, 4.4559e+02],\n",
      "        [3.2083e+02, 3.0528e+01, 7.7024e+02, 2.1227e+02],\n",
      "        [8.4085e+02, 3.9479e+02, 1.3105e+03, 6.9813e+02],\n",
      "        [7.5880e+02, 2.2533e+02, 1.3731e+03, 7.2955e+02],\n",
      "        [7.8558e+02, 2.2329e+02, 1.3726e+03, 6.8365e+02],\n",
      "        [1.1860e+03, 2.5116e+01, 1.2779e+03, 2.7582e+02],\n",
      "        [8.1013e+02, 4.0019e+02, 9.8632e+02, 5.8373e+02],\n",
      "        [8.1013e+02, 4.0019e+02, 9.8632e+02, 5.8373e+02],\n",
      "        [8.2481e+02, 7.2680e+02, 1.1324e+03, 8.6498e+02],\n",
      "        [7.4434e+02, 2.8724e+02, 1.3580e+03, 7.3182e+02],\n",
      "        [6.8704e+02, 3.9568e+02, 1.0127e+03, 6.0175e+02],\n",
      "        [7.8022e+02, 2.1769e+02, 1.3776e+03, 7.3585e+02],\n",
      "        [1.5722e+02, 6.5533e+02, 4.3857e+02, 1.0510e+03],\n",
      "        [6.8969e+02, 4.0100e+02, 1.0348e+03, 6.1360e+02],\n",
      "        [8.7533e+02, 3.9571e+02, 1.3139e+03, 7.0384e+02],\n",
      "        [1.5862e+02, 6.4063e+02, 4.4621e+02, 1.0629e+03],\n",
      "        [2.8012e+02, 3.6851e+01, 8.4743e+02, 5.0451e+02],\n",
      "        [3.5919e+01, 9.7240e+01, 9.8737e+01, 2.9800e+02],\n",
      "        [8.6972e+02, 8.7468e+00, 1.2682e+03, 2.8336e+02],\n",
      "        [1.6344e+03, 1.1884e+00, 1.9128e+03, 4.5059e+02],\n",
      "        [7.9147e+02, 1.9224e+02, 1.3327e+03, 4.7618e+02],\n",
      "        [6.7837e+02, 1.1787e+02, 8.9332e+02, 4.5768e+02],\n",
      "        [7.3390e+02, 4.7911e+00, 9.1546e+02, 1.0396e+02],\n",
      "        [3.2218e+02, 1.5494e+02, 1.2987e+03, 7.1676e+02],\n",
      "        [0.0000e+00, 2.6725e+02, 1.3773e+03, 1.1797e+03],\n",
      "        [1.2055e+03, 4.3084e+00, 1.8198e+03, 4.0137e+02],\n",
      "        [7.4823e+02, 8.3718e+02, 1.0123e+03, 1.0912e+03],\n",
      "        [7.6476e+02, 7.6766e+02, 1.0802e+03, 1.0118e+03],\n",
      "        [9.2063e+02, 9.9533e+02, 1.0290e+03, 1.1150e+03],\n",
      "        [1.3615e+02, 5.8776e+02, 9.3826e+02, 1.1213e+03],\n",
      "        [7.7753e+02, 2.1782e+02, 1.3709e+03, 7.2631e+02],\n",
      "        [5.6152e+02, 1.4398e+02, 8.6540e+02, 4.4742e+02],\n",
      "        [7.0124e+02, 6.5567e+01, 1.3067e+03, 5.8078e+02],\n",
      "        [8.0684e+02, 2.2491e+02, 1.3762e+03, 4.7548e+02],\n",
      "        [5.9752e+02, 6.6638e+02, 1.3363e+03, 1.1799e+03],\n",
      "        [1.7012e+02, 1.2910e+02, 1.3574e+03, 8.7601e+02],\n",
      "        [2.3051e+02, 2.4831e+02, 7.9146e+02, 9.3518e+02],\n",
      "        [7.9394e+02, 3.8540e+02, 1.1041e+03, 6.1946e+02],\n",
      "        [1.2303e+01, 2.8077e+01, 1.0179e+02, 3.1711e+02],\n",
      "        [6.7459e+02, 4.1281e+02, 8.4533e+02, 5.3682e+02],\n",
      "        [2.0206e+02, 3.3214e+01, 7.5715e+02, 7.7657e+02],\n",
      "        [7.3279e+02, 3.4189e+00, 9.1173e+02, 1.1811e+02],\n",
      "        [8.2613e+02, 7.3228e+02, 1.1259e+03, 8.5920e+02],\n",
      "        [9.1615e+02, 1.0621e+03, 9.9989e+02, 1.1143e+03],\n",
      "        [3.1322e+02, 2.8251e+01, 7.8816e+02, 3.1067e+02],\n",
      "        [2.8198e+02, 3.5062e+01, 8.1181e+02, 3.4915e+02],\n",
      "        [9.2545e+02, 1.0336e+03, 1.0134e+03, 1.1046e+03],\n",
      "        [8.3658e+02, 3.9110e+02, 1.3083e+03, 7.0459e+02],\n",
      "        [3.0577e+02, 5.9517e+01, 8.2031e+02, 4.3435e+02],\n",
      "        [1.2049e+03, 2.5651e+00, 1.8861e+03, 4.4088e+02],\n",
      "        [7.0187e+02, 4.1893e+02, 1.2162e+03, 6.6233e+02],\n",
      "        [8.2952e+02, 7.3467e+02, 1.1121e+03, 8.4077e+02],\n",
      "        [4.5269e+02, 3.0973e+02, 8.1299e+02, 7.4734e+02],\n",
      "        [6.1368e+02, 3.7062e+01, 9.1203e+02, 4.1556e+02],\n",
      "        [1.1235e+02, 2.1249e+02, 1.3606e+03, 1.0614e+03],\n",
      "        [1.5391e+02, 6.3798e+02, 5.1051e+02, 1.0622e+03],\n",
      "        [1.0397e+02, 6.0987e+02, 7.3403e+02, 1.1019e+03],\n",
      "        [2.2070e+02, 2.5526e+02, 1.8213e+03, 1.1836e+03],\n",
      "        [3.2086e+02, 2.9298e+01, 7.7229e+02, 2.1290e+02],\n",
      "        [7.3922e+02, 1.1490e+02, 8.9605e+02, 2.8698e+02],\n",
      "        [7.4434e+02, 2.8724e+02, 1.3580e+03, 7.3182e+02],\n",
      "        [9.1876e+02, 9.8947e+02, 1.0331e+03, 1.1133e+03],\n",
      "        [0.0000e+00, 2.6725e+02, 1.3773e+03, 1.1797e+03],\n",
      "        [1.6645e+02, 5.0531e+02, 5.6949e+02, 1.0385e+03],\n",
      "        [0.0000e+00, 2.5316e+02, 1.3601e+03, 1.1741e+03],\n",
      "        [7.6692e+02, 1.0235e+03, 9.6107e+02, 1.0947e+03],\n",
      "        [7.6536e+02, 4.7937e+00, 1.4419e+03, 4.0545e+02],\n",
      "        [5.8641e+01, 1.1717e+02, 1.1819e+03, 1.0998e+03],\n",
      "        [1.3505e+03, 5.2488e+02, 1.4989e+03, 6.7136e+02],\n",
      "        [6.5753e+02, 7.5917e+02, 1.1873e+03, 1.1627e+03],\n",
      "        [1.6645e+02, 5.0531e+02, 5.6949e+02, 1.0385e+03],\n",
      "        [1.5145e+02, 3.2576e+01, 7.9151e+02, 5.8572e+02],\n",
      "        [6.7443e+02, 4.1283e+02, 8.4386e+02, 5.3478e+02],\n",
      "        [3.1505e+02, 3.2605e+01, 7.8036e+02, 2.1954e+02],\n",
      "        [1.6165e+02, 6.4875e+02, 4.1424e+02, 1.0615e+03],\n",
      "        [6.7628e+02, 2.5871e+02, 1.3349e+03, 7.3427e+02],\n",
      "        [0.0000e+00, 6.0263e+02, 1.3509e+03, 1.1840e+03],\n",
      "        [4.5317e+02, 3.1620e+02, 8.0097e+02, 7.3942e+02],\n",
      "        [7.9191e+02, 9.9699e+02, 1.0284e+03, 1.1077e+03],\n",
      "        [1.5391e+02, 6.3798e+02, 5.1051e+02, 1.0622e+03],\n",
      "        [9.0375e+02, 1.0729e+03, 9.8585e+02, 1.1289e+03],\n",
      "        [3.2086e+02, 2.9298e+01, 7.7229e+02, 2.1290e+02],\n",
      "        [8.0277e+02, 7.2832e+02, 1.1215e+03, 9.1876e+02],\n",
      "        [7.0826e+02, 2.9223e+01, 1.0047e+03, 3.9685e+02],\n",
      "        [7.2694e+02, 6.0567e+01, 9.0160e+02, 2.3447e+02],\n",
      "        [1.6469e+03, 0.0000e+00, 1.9145e+03, 4.6891e+02],\n",
      "        [2.2019e+02, 1.4834e+02, 1.0011e+03, 9.4077e+02],\n",
      "        [2.5319e+02, 4.0703e+01, 8.2210e+02, 6.1827e+02],\n",
      "        [6.8020e+02, 1.3898e+02, 1.1057e+03, 4.4531e+02],\n",
      "        [9.6337e+02, 3.8969e+02, 1.2862e+03, 6.0950e+02],\n",
      "        [5.1529e+02, 1.0267e+02, 1.5054e+03, 7.0044e+02],\n",
      "        [7.3390e+02, 4.7911e+00, 9.1546e+02, 1.0396e+02],\n",
      "        [3.3230e+02, 1.4250e+02, 7.9080e+02, 6.5690e+02],\n",
      "        [2.5328e+02, 3.2533e+01, 5.0888e+02, 6.8538e+02],\n",
      "        [3.1989e+02, 2.7603e+01, 7.6975e+02, 2.1365e+02],\n",
      "        [6.5501e+02, 0.0000e+00, 6.9431e+02, 5.4879e+01],\n",
      "        [1.0255e+03, 3.6220e+02, 1.3439e+03, 7.3316e+02]], device='cuda:0'))\n"
     ]
    }
   ],
   "source": [
    "print(pred4[\"instances\"].pred_boxes)"
   ]
  },
  {
   "cell_type": "markdown",
   "id": "d467a276-222d-40eb-8c8c-1afdc084b3e3",
   "metadata": {},
   "source": [
    "## Detectron2 :: Faster RCNN R101 FPN"
   ]
  },
  {
   "cell_type": "code",
   "execution_count": 109,
   "id": "6459f051-d18c-4bfe-9a26-6ad19b3da75c",
   "metadata": {},
   "outputs": [],
   "source": [
    "#https://github.com/facebookresearch/detectron2/tree/main/configs/COCO-Detection\n",
    "cfg_frcnn101fpn = get_cfg()\n",
    "cfg_frcnn101fpn.merge_from_file(model_zoo.get_config_file(\"COCO-Detection/faster_rcnn_R_101_FPN_3x.yaml\"))\n",
    "cfg_frcnn101fpn.MODEL.ROI_HEADS.SCORE_THRESH_TEST = 0.5  # set threshold for this model\n",
    "cfg_frcnn101fpn.MODEL.WEIGHTS = model_zoo.get_checkpoint_url(\"COCO-Detection/faster_rcnn_R_101_FPN_3x.yaml\")"
   ]
  },
  {
   "cell_type": "code",
   "execution_count": 110,
   "id": "26b0d786-58b6-406c-a9e3-0dfae6867063",
   "metadata": {},
   "outputs": [
    {
     "name": "stdout",
     "output_type": "stream",
     "text": [
      "\u001b[32m[08/25 13:29:19 d2.checkpoint.detection_checkpoint]: \u001b[0m[DetectionCheckpointer] Loading from https://dl.fbaipublicfiles.com/detectron2/COCO-Detection/faster_rcnn_R_101_FPN_3x/137851257/model_final_f6e8b1.pkl ...\n"
     ]
    }
   ],
   "source": [
    "predictor_frcnn101fpn = DefaultPredictor(cfg_frcnn101fpn)"
   ]
  },
  {
   "cell_type": "code",
   "execution_count": 111,
   "id": "313218be-a448-4645-befc-18ae7cb031c9",
   "metadata": {},
   "outputs": [],
   "source": [
    "pred5 = predictor_frcnn101fpn(image1)\n",
    "pred6 = predictor_frcnn101fpn(image2)\n",
    "pred7 = predictor_frcnn101fpn(image3)\n",
    "pred8 = predictor_frcnn101fpn(image4)"
   ]
  },
  {
   "cell_type": "code",
   "execution_count": 112,
   "id": "b8b66b0a-d113-47cf-8192-7feeaf2b0d39",
   "metadata": {},
   "outputs": [],
   "source": [
    "visualized_pred5 = Visualizer(image1[:, :, ::-1], MetadataCatalog.get(cfg.DATASETS.TRAIN[0]), scale=1.2)\n",
    "visualized_pred5 = visualized_pred5.draw_instance_predictions(pred5[\"instances\"].to(\"cpu\"))\n",
    "\n",
    "visualized_pred6 = Visualizer(image2[:, :, ::-1], MetadataCatalog.get(cfg.DATASETS.TRAIN[0]), scale=1.2)\n",
    "visualized_pred6 = visualized_pred6.draw_instance_predictions(pred6[\"instances\"].to(\"cpu\"))\n",
    "\n",
    "visualized_pred7 = Visualizer(image3[:, :, ::-1], MetadataCatalog.get(cfg.DATASETS.TRAIN[0]), scale=1.2)\n",
    "visualized_pred7 = visualized_pred7.draw_instance_predictions(pred7[\"instances\"].to(\"cpu\"))\n",
    "\n",
    "visualized_pred8 = Visualizer(image4[:, :, ::-1], MetadataCatalog.get(cfg.DATASETS.TRAIN[0]), scale=1.2)\n",
    "visualized_pred8 = visualized_pred8.draw_instance_predictions(pred8[\"instances\"].to(\"cpu\"))"
   ]
  },
  {
   "cell_type": "code",
   "execution_count": null,
   "id": "3e20792f-3658-4ffa-ba6f-8a8b7eaf5cd5",
   "metadata": {
    "scrolled": true
   },
   "outputs": [],
   "source": [
    "plt.figure(figsize=(24, 14))\n",
    "\n",
    "ax = plt.subplot(2, 2, 1)\n",
    "plt.title('Harbin')\n",
    "plt.imshow(visualized_pred5.get_image()[:, :, ::-1])\n",
    "plt.axis(\"off\")\n",
    "ax = plt.subplot(2, 2, 2)\n",
    "plt.title('Hongkong')\n",
    "plt.imshow(visualized_pred6.get_image()[:, :, ::-1])\n",
    "plt.axis(\"off\")\n",
    "ax = plt.subplot(2, 2, 3)\n",
    "plt.title('Kathmandu')\n",
    "plt.imshow(visualized_pred7.get_image()[:, :, ::-1])\n",
    "plt.axis(\"off\")\n",
    "ax = plt.subplot(2, 2, 4)\n",
    "plt.title('Shenzhen')\n",
    "plt.imshow(visualized_pred8.get_image()[:, :, ::-1])\n",
    "plt.axis(\"off\")\n",
    "\n",
    "plt.savefig(\"../assets/Object_Detection_Detectron2_02.webp\", bbox_inches='tight')"
   ]
  },
  {
   "cell_type": "markdown",
   "id": "9222609f-25ed-4bb7-8a7c-88088db54f14",
   "metadata": {},
   "source": [
    "![Detectron2 :: Faster RCNN R101 FPN](./assets/Object_Detection_Detectron2_02.webp)"
   ]
  },
  {
   "cell_type": "code",
   "execution_count": 117,
   "id": "52b065f5-76d8-4274-b31b-d1b6f4c23547",
   "metadata": {},
   "outputs": [],
   "source": [
    "# Get the predicted class labels for each instance in the image1\n",
    "pred8_classes = pred8[\"instances\"].pred_classes.tolist()\n",
    "# Map the predicted class labels to class names\n",
    "pred8_class_names = [class_names[class_id] for class_id in pred8_classes]"
   ]
  },
  {
   "cell_type": "code",
   "execution_count": 118,
   "id": "973da0a1-7905-4cce-a4c2-e507a9b0c078",
   "metadata": {},
   "outputs": [
    {
     "name": "stdout",
     "output_type": "stream",
     "text": [
      "Predicted Class Names: ['cup', 'teddy bear', 'dining table', 'chair', 'backpack', 'chair', 'bowl']\n"
     ]
    }
   ],
   "source": [
    "print(\"Predicted Class Names:\", pred8_class_names)"
   ]
  },
  {
   "cell_type": "code",
   "execution_count": 119,
   "id": "8339c09b-49cd-4e64-a027-7d785324d131",
   "metadata": {},
   "outputs": [
    {
     "name": "stdout",
     "output_type": "stream",
     "text": [
      "Boxes(tensor([[ 749.6494,  837.2590, 1029.4165, 1090.3832],\n",
      "        [ 446.9825,  315.1858,  796.4763,  810.3347],\n",
      "        [   0.0000,  596.0012, 1343.7590, 1174.9941],\n",
      "        [ 710.6813,  115.2629,  896.0451,  422.0094],\n",
      "        [ 708.7178,  384.5089, 1328.7939,  706.4788],\n",
      "        [ 780.0182,  225.4701, 1379.0797,  620.4463],\n",
      "        [ 817.5123,  729.8907, 1131.7351,  870.5685]], device='cuda:0'))\n"
     ]
    }
   ],
   "source": [
    "print(pred8[\"instances\"].pred_boxes)"
   ]
  },
  {
   "cell_type": "code",
   "execution_count": null,
   "id": "e64acca9-d636-4ed3-b4cf-ed8f409ec4c1",
   "metadata": {},
   "outputs": [],
   "source": []
  },
  {
   "cell_type": "code",
   "execution_count": null,
   "id": "96f3c5a7-248c-4b5e-9739-22a060d28ab5",
   "metadata": {},
   "outputs": [],
   "source": []
  }
 ],
 "metadata": {
  "kernelspec": {
   "display_name": "Python 3 (ipykernel)",
   "language": "python",
   "name": "python3"
  },
  "language_info": {
   "codemirror_mode": {
    "name": "ipython",
    "version": 3
   },
   "file_extension": ".py",
   "mimetype": "text/x-python",
   "name": "python",
   "nbconvert_exporter": "python",
   "pygments_lexer": "ipython3",
   "version": "3.11.3"
  }
 },
 "nbformat": 4,
 "nbformat_minor": 5
}
